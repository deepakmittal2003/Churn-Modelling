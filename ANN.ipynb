{
 "cells": [
  {
   "cell_type": "code",
   "execution_count": 2,
   "id": "aec3caba",
   "metadata": {},
   "outputs": [],
   "source": [
    "import numpy as np\n",
    "import matplotlib.pyplot as plt\n",
    "import pandas as pd\n",
    "import tensorflow as tf"
   ]
  },
  {
   "cell_type": "code",
   "execution_count": 3,
   "id": "09776758",
   "metadata": {},
   "outputs": [],
   "source": [
    "dataset = pd.read_csv('Churn_Modelling.csv')\n",
    "X = dataset.iloc[:, 3:-1].values\n",
    "y = dataset.iloc[:, -1].values"
   ]
  },
  {
   "cell_type": "code",
   "execution_count": 4,
   "id": "64e294a4",
   "metadata": {},
   "outputs": [
    {
     "name": "stdout",
     "output_type": "stream",
     "text": [
      "[[619 'France' 'Female' ... 1 1 101348.88]\n",
      " [608 'Spain' 'Female' ... 0 1 112542.58]\n",
      " [502 'France' 'Female' ... 1 0 113931.57]\n",
      " ...\n",
      " [709 'France' 'Female' ... 0 1 42085.58]\n",
      " [772 'Germany' 'Male' ... 1 0 92888.52]\n",
      " [792 'France' 'Female' ... 1 0 38190.78]]\n"
     ]
    }
   ],
   "source": [
    "print(X)"
   ]
  },
  {
   "cell_type": "code",
   "execution_count": 5,
   "id": "41aff2c1",
   "metadata": {},
   "outputs": [
    {
     "name": "stdout",
     "output_type": "stream",
     "text": [
      "[1 0 1 ... 1 1 0]\n"
     ]
    }
   ],
   "source": [
    "print(y)"
   ]
  },
  {
   "cell_type": "code",
   "execution_count": 6,
   "id": "0819202f",
   "metadata": {},
   "outputs": [],
   "source": [
    "from sklearn.preprocessing import LabelEncoder\n",
    "le = LabelEncoder()\n",
    "X[:, 2] = le.fit_transform(X[:, 2])"
   ]
  },
  {
   "cell_type": "code",
   "execution_count": 7,
   "id": "4173685b",
   "metadata": {},
   "outputs": [],
   "source": [
    "from sklearn.compose import ColumnTransformer\n",
    "from sklearn.preprocessing import OneHotEncoder\n",
    "ct = ColumnTransformer(transformers=[('encoder', OneHotEncoder(), [1])], remainder='passthrough')\n",
    "X = np.array(ct.fit_transform(X))"
   ]
  },
  {
   "cell_type": "code",
   "execution_count": 8,
   "id": "e5677c16",
   "metadata": {},
   "outputs": [
    {
     "name": "stdout",
     "output_type": "stream",
     "text": [
      "[[1.0 0.0 0.0 ... 1 1 101348.88]\n",
      " [0.0 0.0 1.0 ... 0 1 112542.58]\n",
      " [1.0 0.0 0.0 ... 1 0 113931.57]\n",
      " ...\n",
      " [1.0 0.0 0.0 ... 0 1 42085.58]\n",
      " [0.0 1.0 0.0 ... 1 0 92888.52]\n",
      " [1.0 0.0 0.0 ... 1 0 38190.78]]\n"
     ]
    }
   ],
   "source": [
    "print(X)"
   ]
  },
  {
   "cell_type": "code",
   "execution_count": 9,
   "id": "df5dd535",
   "metadata": {},
   "outputs": [],
   "source": [
    "from sklearn.model_selection import train_test_split\n",
    "X_train, X_test, y_train, y_test = train_test_split(X, y, test_size = 0.2, random_state = 0)"
   ]
  },
  {
   "cell_type": "code",
   "execution_count": 10,
   "id": "bacdb14f",
   "metadata": {},
   "outputs": [],
   "source": [
    "from sklearn.preprocessing import StandardScaler\n",
    "sc = StandardScaler()\n",
    "X_train = sc.fit_transform(X_train)\n",
    "X_test = sc.transform(X_test)"
   ]
  },
  {
   "cell_type": "markdown",
   "id": "fedb9afc",
   "metadata": {},
   "source": [
    "## Part 2 - Building the ANN"
   ]
  },
  {
   "cell_type": "markdown",
   "id": "4d47bc7e",
   "metadata": {},
   "source": [
    "### Initializing the ANN"
   ]
  },
  {
   "cell_type": "code",
   "execution_count": 11,
   "id": "622c3093",
   "metadata": {},
   "outputs": [],
   "source": [
    "ann = tf.keras.models.Sequential()"
   ]
  },
  {
   "cell_type": "markdown",
   "id": "16e5ca12",
   "metadata": {},
   "source": [
    "### Adding the input layer and the first hidden layer"
   ]
  },
  {
   "cell_type": "code",
   "execution_count": 12,
   "id": "bc8e0016",
   "metadata": {},
   "outputs": [],
   "source": [
    "ann.add(tf.keras.layers.Dense(units=6, activation='relu'))"
   ]
  },
  {
   "cell_type": "markdown",
   "id": "cdcf4f30",
   "metadata": {},
   "source": [
    "### Adding the second hidden layer"
   ]
  },
  {
   "cell_type": "code",
   "execution_count": 13,
   "id": "adc53c07",
   "metadata": {},
   "outputs": [],
   "source": [
    "ann.add(tf.keras.layers.Dense(units=6, activation='relu'))"
   ]
  },
  {
   "cell_type": "markdown",
   "id": "a98a54e1",
   "metadata": {},
   "source": [
    "### Adding the output layer"
   ]
  },
  {
   "cell_type": "code",
   "execution_count": 14,
   "id": "8e460c57",
   "metadata": {},
   "outputs": [],
   "source": [
    "ann.add(tf.keras.layers.Dense(units=1, activation='sigmoid'))"
   ]
  },
  {
   "cell_type": "code",
   "execution_count": 16,
   "id": "40f07d71",
   "metadata": {},
   "outputs": [],
   "source": [
    "ann.compile(optimizer = 'adam',loss = 'binary_crossentropy',metrics = ['accuracy'])"
   ]
  },
  {
   "cell_type": "code",
   "execution_count": 17,
   "id": "0dfbd434",
   "metadata": {},
   "outputs": [
    {
     "name": "stdout",
     "output_type": "stream",
     "text": [
      "Epoch 1/100\n",
      "250/250 [==============================] - 0s 539us/step - loss: 0.6163 - accuracy: 0.6919\n",
      "Epoch 2/100\n",
      "250/250 [==============================] - 0s 499us/step - loss: 0.4885 - accuracy: 0.7987\n",
      "Epoch 3/100\n",
      "250/250 [==============================] - 0s 499us/step - loss: 0.4506 - accuracy: 0.8048\n",
      "Epoch 4/100\n",
      "250/250 [==============================] - 0s 502us/step - loss: 0.4278 - accuracy: 0.8115\n",
      "Epoch 5/100\n",
      "250/250 [==============================] - 0s 497us/step - loss: 0.4134 - accuracy: 0.8179\n",
      "Epoch 6/100\n",
      "250/250 [==============================] - 0s 502us/step - loss: 0.4013 - accuracy: 0.8249\n",
      "Epoch 7/100\n",
      "250/250 [==============================] - 0s 504us/step - loss: 0.3902 - accuracy: 0.8324\n",
      "Epoch 8/100\n",
      "250/250 [==============================] - 0s 516us/step - loss: 0.3791 - accuracy: 0.8374\n",
      "Epoch 9/100\n",
      "250/250 [==============================] - 0s 504us/step - loss: 0.3700 - accuracy: 0.8441\n",
      "Epoch 10/100\n",
      "250/250 [==============================] - 0s 501us/step - loss: 0.3627 - accuracy: 0.8509\n",
      "Epoch 11/100\n",
      "250/250 [==============================] - 0s 502us/step - loss: 0.3567 - accuracy: 0.8554\n",
      "Epoch 12/100\n",
      "250/250 [==============================] - 0s 501us/step - loss: 0.3533 - accuracy: 0.8575\n",
      "Epoch 13/100\n",
      "250/250 [==============================] - 0s 504us/step - loss: 0.3505 - accuracy: 0.8585\n",
      "Epoch 14/100\n",
      "250/250 [==============================] - 0s 501us/step - loss: 0.3487 - accuracy: 0.8587\n",
      "Epoch 15/100\n",
      "250/250 [==============================] - 0s 510us/step - loss: 0.3474 - accuracy: 0.8604\n",
      "Epoch 16/100\n",
      "250/250 [==============================] - 0s 500us/step - loss: 0.3461 - accuracy: 0.8606\n",
      "Epoch 17/100\n",
      "250/250 [==============================] - 0s 501us/step - loss: 0.3461 - accuracy: 0.8596\n",
      "Epoch 18/100\n",
      "250/250 [==============================] - 0s 497us/step - loss: 0.3454 - accuracy: 0.8583\n",
      "Epoch 19/100\n",
      "250/250 [==============================] - 0s 500us/step - loss: 0.3450 - accuracy: 0.8605\n",
      "Epoch 20/100\n",
      "250/250 [==============================] - 0s 498us/step - loss: 0.3443 - accuracy: 0.8615\n",
      "Epoch 21/100\n",
      "250/250 [==============================] - 0s 501us/step - loss: 0.3441 - accuracy: 0.8620\n",
      "Epoch 22/100\n",
      "250/250 [==============================] - 0s 505us/step - loss: 0.3436 - accuracy: 0.8606\n",
      "Epoch 23/100\n",
      "250/250 [==============================] - 0s 505us/step - loss: 0.3435 - accuracy: 0.8610\n",
      "Epoch 24/100\n",
      "250/250 [==============================] - 0s 502us/step - loss: 0.3430 - accuracy: 0.8597\n",
      "Epoch 25/100\n",
      "250/250 [==============================] - 0s 510us/step - loss: 0.3428 - accuracy: 0.8624\n",
      "Epoch 26/100\n",
      "250/250 [==============================] - 0s 503us/step - loss: 0.3423 - accuracy: 0.8601\n",
      "Epoch 27/100\n",
      "250/250 [==============================] - 0s 518us/step - loss: 0.3426 - accuracy: 0.8619\n",
      "Epoch 28/100\n",
      "250/250 [==============================] - 0s 527us/step - loss: 0.3422 - accuracy: 0.8611\n",
      "Epoch 29/100\n",
      "250/250 [==============================] - 0s 510us/step - loss: 0.3417 - accuracy: 0.8618\n",
      "Epoch 30/100\n",
      "250/250 [==============================] - 0s 508us/step - loss: 0.3416 - accuracy: 0.8625\n",
      "Epoch 31/100\n",
      "250/250 [==============================] - 0s 503us/step - loss: 0.3412 - accuracy: 0.8626\n",
      "Epoch 32/100\n",
      "250/250 [==============================] - 0s 499us/step - loss: 0.3415 - accuracy: 0.8621\n",
      "Epoch 33/100\n",
      "250/250 [==============================] - 0s 504us/step - loss: 0.3408 - accuracy: 0.8614\n",
      "Epoch 34/100\n",
      "250/250 [==============================] - 0s 547us/step - loss: 0.3406 - accuracy: 0.8612\n",
      "Epoch 35/100\n",
      "250/250 [==============================] - 0s 511us/step - loss: 0.3409 - accuracy: 0.8626\n",
      "Epoch 36/100\n",
      "250/250 [==============================] - 0s 505us/step - loss: 0.3403 - accuracy: 0.8621\n",
      "Epoch 37/100\n",
      "250/250 [==============================] - 0s 501us/step - loss: 0.3405 - accuracy: 0.8618\n",
      "Epoch 38/100\n",
      "250/250 [==============================] - 0s 504us/step - loss: 0.3403 - accuracy: 0.8612\n",
      "Epoch 39/100\n",
      "250/250 [==============================] - 0s 508us/step - loss: 0.3400 - accuracy: 0.8644\n",
      "Epoch 40/100\n",
      "250/250 [==============================] - 0s 497us/step - loss: 0.3400 - accuracy: 0.8625\n",
      "Epoch 41/100\n",
      "250/250 [==============================] - 0s 500us/step - loss: 0.3399 - accuracy: 0.8629\n",
      "Epoch 42/100\n",
      "250/250 [==============================] - 0s 502us/step - loss: 0.3395 - accuracy: 0.8624\n",
      "Epoch 43/100\n",
      "250/250 [==============================] - 0s 506us/step - loss: 0.3395 - accuracy: 0.8615\n",
      "Epoch 44/100\n",
      "250/250 [==============================] - 0s 525us/step - loss: 0.3395 - accuracy: 0.8615\n",
      "Epoch 45/100\n",
      "250/250 [==============================] - 0s 615us/step - loss: 0.3395 - accuracy: 0.8621\n",
      "Epoch 46/100\n",
      "250/250 [==============================] - 0s 511us/step - loss: 0.3389 - accuracy: 0.8634\n",
      "Epoch 47/100\n",
      "250/250 [==============================] - 0s 507us/step - loss: 0.3391 - accuracy: 0.8622\n",
      "Epoch 48/100\n",
      "250/250 [==============================] - 0s 513us/step - loss: 0.3384 - accuracy: 0.8631\n",
      "Epoch 49/100\n",
      "250/250 [==============================] - 0s 509us/step - loss: 0.3387 - accuracy: 0.8645\n",
      "Epoch 50/100\n",
      "250/250 [==============================] - 0s 513us/step - loss: 0.3386 - accuracy: 0.8633\n",
      "Epoch 51/100\n",
      "250/250 [==============================] - 0s 502us/step - loss: 0.3382 - accuracy: 0.8622\n",
      "Epoch 52/100\n",
      "250/250 [==============================] - 0s 512us/step - loss: 0.3376 - accuracy: 0.8633\n",
      "Epoch 53/100\n",
      "250/250 [==============================] - 0s 517us/step - loss: 0.3383 - accuracy: 0.8627\n",
      "Epoch 54/100\n",
      "250/250 [==============================] - 0s 501us/step - loss: 0.3379 - accuracy: 0.8630\n",
      "Epoch 55/100\n",
      "250/250 [==============================] - 0s 498us/step - loss: 0.3378 - accuracy: 0.8631\n",
      "Epoch 56/100\n",
      "250/250 [==============================] - 0s 506us/step - loss: 0.3379 - accuracy: 0.8626\n",
      "Epoch 57/100\n",
      "250/250 [==============================] - 0s 502us/step - loss: 0.3380 - accuracy: 0.8634\n",
      "Epoch 58/100\n",
      "250/250 [==============================] - 0s 502us/step - loss: 0.3377 - accuracy: 0.8631\n",
      "Epoch 59/100\n",
      "250/250 [==============================] - 0s 501us/step - loss: 0.3375 - accuracy: 0.8635\n",
      "Epoch 60/100\n",
      "250/250 [==============================] - 0s 509us/step - loss: 0.3373 - accuracy: 0.8633\n",
      "Epoch 61/100\n",
      "250/250 [==============================] - 0s 508us/step - loss: 0.3371 - accuracy: 0.8651\n",
      "Epoch 62/100\n",
      "250/250 [==============================] - 0s 504us/step - loss: 0.3375 - accuracy: 0.8654\n",
      "Epoch 63/100\n",
      "250/250 [==============================] - 0s 501us/step - loss: 0.3371 - accuracy: 0.8631\n",
      "Epoch 64/100\n",
      "250/250 [==============================] - 0s 503us/step - loss: 0.3372 - accuracy: 0.8618\n",
      "Epoch 65/100\n",
      "250/250 [==============================] - 0s 510us/step - loss: 0.3371 - accuracy: 0.8631\n",
      "Epoch 66/100\n",
      "250/250 [==============================] - 0s 504us/step - loss: 0.3373 - accuracy: 0.8641\n",
      "Epoch 67/100\n",
      "250/250 [==============================] - 0s 519us/step - loss: 0.3370 - accuracy: 0.8658\n",
      "Epoch 68/100\n",
      "250/250 [==============================] - 0s 519us/step - loss: 0.3368 - accuracy: 0.8637\n",
      "Epoch 69/100\n",
      "250/250 [==============================] - 0s 510us/step - loss: 0.3367 - accuracy: 0.8633\n",
      "Epoch 70/100\n",
      "250/250 [==============================] - 0s 506us/step - loss: 0.3368 - accuracy: 0.8641\n",
      "Epoch 71/100\n",
      "250/250 [==============================] - 0s 504us/step - loss: 0.3369 - accuracy: 0.8631\n",
      "Epoch 72/100\n",
      "250/250 [==============================] - 0s 510us/step - loss: 0.3362 - accuracy: 0.8652\n",
      "Epoch 73/100\n",
      "250/250 [==============================] - 0s 507us/step - loss: 0.3367 - accuracy: 0.8634\n",
      "Epoch 74/100\n",
      "250/250 [==============================] - 0s 508us/step - loss: 0.3362 - accuracy: 0.8641\n",
      "Epoch 75/100\n",
      "250/250 [==============================] - 0s 504us/step - loss: 0.3362 - accuracy: 0.8646\n",
      "Epoch 76/100\n",
      "250/250 [==============================] - 0s 504us/step - loss: 0.3363 - accuracy: 0.8634\n",
      "Epoch 77/100\n",
      "250/250 [==============================] - 0s 507us/step - loss: 0.3361 - accuracy: 0.8652\n",
      "Epoch 78/100\n",
      "250/250 [==============================] - 0s 504us/step - loss: 0.3363 - accuracy: 0.8640\n",
      "Epoch 79/100\n"
     ]
    },
    {
     "name": "stdout",
     "output_type": "stream",
     "text": [
      "250/250 [==============================] - 0s 500us/step - loss: 0.3369 - accuracy: 0.8626\n",
      "Epoch 80/100\n",
      "250/250 [==============================] - 0s 506us/step - loss: 0.3362 - accuracy: 0.8637\n",
      "Epoch 81/100\n",
      "250/250 [==============================] - 0s 491us/step - loss: 0.3364 - accuracy: 0.8655\n",
      "Epoch 82/100\n",
      "250/250 [==============================] - 0s 491us/step - loss: 0.3362 - accuracy: 0.8649\n",
      "Epoch 83/100\n",
      "250/250 [==============================] - 0s 588us/step - loss: 0.3361 - accuracy: 0.8637\n",
      "Epoch 84/100\n",
      "250/250 [==============================] - 0s 512us/step - loss: 0.3361 - accuracy: 0.8644\n",
      "Epoch 85/100\n",
      "250/250 [==============================] - 0s 499us/step - loss: 0.3363 - accuracy: 0.8629\n",
      "Epoch 86/100\n",
      "250/250 [==============================] - 0s 494us/step - loss: 0.3353 - accuracy: 0.8636\n",
      "Epoch 87/100\n",
      "250/250 [==============================] - 0s 495us/step - loss: 0.3361 - accuracy: 0.8646\n",
      "Epoch 88/100\n",
      "250/250 [==============================] - 0s 491us/step - loss: 0.3362 - accuracy: 0.8643\n",
      "Epoch 89/100\n",
      "250/250 [==============================] - 0s 493us/step - loss: 0.3358 - accuracy: 0.8650\n",
      "Epoch 90/100\n",
      "250/250 [==============================] - 0s 493us/step - loss: 0.3363 - accuracy: 0.8648\n",
      "Epoch 91/100\n",
      "250/250 [==============================] - 0s 494us/step - loss: 0.3359 - accuracy: 0.8654\n",
      "Epoch 92/100\n",
      "250/250 [==============================] - 0s 500us/step - loss: 0.3360 - accuracy: 0.8658\n",
      "Epoch 93/100\n",
      "250/250 [==============================] - 0s 495us/step - loss: 0.3354 - accuracy: 0.8645\n",
      "Epoch 94/100\n",
      "250/250 [==============================] - 0s 496us/step - loss: 0.3361 - accuracy: 0.8654\n",
      "Epoch 95/100\n",
      "250/250 [==============================] - 0s 494us/step - loss: 0.3355 - accuracy: 0.8636\n",
      "Epoch 96/100\n",
      "250/250 [==============================] - 0s 494us/step - loss: 0.3358 - accuracy: 0.8640\n",
      "Epoch 97/100\n",
      "250/250 [==============================] - 0s 497us/step - loss: 0.3359 - accuracy: 0.8644\n",
      "Epoch 98/100\n",
      "250/250 [==============================] - 0s 500us/step - loss: 0.3357 - accuracy: 0.8639\n",
      "Epoch 99/100\n",
      "250/250 [==============================] - 0s 502us/step - loss: 0.3354 - accuracy: 0.8637\n",
      "Epoch 100/100\n",
      "250/250 [==============================] - 0s 501us/step - loss: 0.3353 - accuracy: 0.8635\n"
     ]
    },
    {
     "data": {
      "text/plain": [
       "<keras.src.callbacks.History at 0x2849f3fd0>"
      ]
     },
     "execution_count": 17,
     "metadata": {},
     "output_type": "execute_result"
    }
   ],
   "source": [
    "ann.fit(X_train, y_train, batch_size = 32, epochs = 100)"
   ]
  },
  {
   "cell_type": "code",
   "execution_count": 18,
   "id": "198cda84",
   "metadata": {},
   "outputs": [
    {
     "name": "stdout",
     "output_type": "stream",
     "text": [
      "63/63 [==============================] - 0s 465us/step\n",
      "[[0 0]\n",
      " [0 1]\n",
      " [0 0]\n",
      " ...\n",
      " [0 0]\n",
      " [0 0]\n",
      " [0 0]]\n"
     ]
    }
   ],
   "source": [
    "y_pred = ann.predict(X_test)\n",
    "y_pred = (y_pred > 0.5)\n",
    "print(np.concatenate((y_pred.reshape(len(y_pred),1), y_test.reshape(len(y_test),1)),1))"
   ]
  },
  {
   "cell_type": "code",
   "execution_count": 19,
   "id": "0e06c265",
   "metadata": {},
   "outputs": [
    {
     "name": "stdout",
     "output_type": "stream",
     "text": [
      "[[1507   88]\n",
      " [ 190  215]]\n"
     ]
    },
    {
     "data": {
      "text/plain": [
       "0.861"
      ]
     },
     "execution_count": 19,
     "metadata": {},
     "output_type": "execute_result"
    }
   ],
   "source": [
    "from sklearn.metrics import confusion_matrix, accuracy_score\n",
    "cm = confusion_matrix(y_test, y_pred)\n",
    "print(cm)\n",
    "accuracy_score(y_test, y_pred)"
   ]
  },
  {
   "cell_type": "code",
   "execution_count": null,
   "id": "d4eaf16c",
   "metadata": {},
   "outputs": [],
   "source": []
  }
 ],
 "metadata": {
  "kernelspec": {
   "display_name": "Python 3 (ipykernel)",
   "language": "python",
   "name": "python3"
  },
  "language_info": {
   "codemirror_mode": {
    "name": "ipython",
    "version": 3
   },
   "file_extension": ".py",
   "mimetype": "text/x-python",
   "name": "python",
   "nbconvert_exporter": "python",
   "pygments_lexer": "ipython3",
   "version": "3.11.3"
  }
 },
 "nbformat": 4,
 "nbformat_minor": 5
}
